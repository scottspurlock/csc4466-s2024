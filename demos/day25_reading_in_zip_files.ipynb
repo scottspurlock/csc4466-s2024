{
  "metadata": {
    "kernelspec": {
      "language": "python",
      "display_name": "Python 3",
      "name": "python3"
    },
    "language_info": {
      "pygments_lexer": "ipython3",
      "nbconvert_exporter": "python",
      "version": "3.6.4",
      "file_extension": ".py",
      "codemirror_mode": {
        "name": "ipython",
        "version": 3
      },
      "name": "python",
      "mimetype": "text/x-python"
    },
    "colab": {
      "provenance": [],
      "include_colab_link": true
    }
  },
  "nbformat_minor": 0,
  "nbformat": 4,
  "cells": [
    {
      "cell_type": "markdown",
      "metadata": {
        "id": "view-in-github",
        "colab_type": "text"
      },
      "source": [
        "<a href=\"https://colab.research.google.com/github/scottspurlock/csc4466-s2024/blob/main/demos/day25_reading_in_zip_files.ipynb\" target=\"_parent\"><img src=\"https://colab.research.google.com/assets/colab-badge.svg\" alt=\"Open In Colab\"/></a>"
      ]
    },
    {
      "cell_type": "markdown",
      "source": [
        "# Computer Vision: reading in zip files"
      ],
      "metadata": {
        "id": "mbE_Z8VRiFXN"
      }
    },
    {
      "cell_type": "code",
      "source": [
        "import gdown\n",
        "\n",
        "# Make sure to share the file you want to get from drive so anyone can access it.\n",
        "# The shared URL might look like this:\n",
        "shared_file_url = 'https://drive.google.com/file/d/1kMANgxQpjzOC5_7NlVIrbYrKuSDtfz7k/view?usp=sharing'\n",
        "# We just need the ID from the middle of the URL:\n",
        "id = '1kMANgxQpjzOC5_7NlVIrbYrKuSDtfz7k'\n",
        "# Name the output file\n",
        "output = 'data.zip'\n",
        "# Call gdown to get the file\n",
        "gdown.download(id=id, output=output, quiet=False)\n"
      ],
      "metadata": {
        "colab": {
          "base_uri": "https://localhost:8080/",
          "height": 105
        },
        "id": "TvP9X9VB1OYl",
        "outputId": "b3edad4a-e234-4fed-cbc0-f4589a21f360"
      },
      "execution_count": 1,
      "outputs": [
        {
          "output_type": "stream",
          "name": "stderr",
          "text": [
            "Downloading...\n",
            "From: https://drive.google.com/uc?id=1kMANgxQpjzOC5_7NlVIrbYrKuSDtfz7k\n",
            "To: /content/data.zip\n",
            "100%|██████████| 2.36M/2.36M [00:00<00:00, 111MB/s]\n"
          ]
        },
        {
          "output_type": "execute_result",
          "data": {
            "text/plain": [
              "'data.zip'"
            ],
            "application/vnd.google.colaboratory.intrinsic+json": {
              "type": "string"
            }
          },
          "metadata": {},
          "execution_count": 1
        }
      ]
    },
    {
      "cell_type": "code",
      "source": [
        "# Unzip the file if needed\n",
        "!unzip data.zip"
      ],
      "metadata": {
        "colab": {
          "base_uri": "https://localhost:8080/"
        },
        "id": "lGYk9bOx1-NQ",
        "outputId": "c6f4b826-945d-4f20-c615-727df68f5b88"
      },
      "execution_count": 2,
      "outputs": [
        {
          "output_type": "stream",
          "name": "stdout",
          "text": [
            "Archive:  data.zip\n",
            "   creating: fruit/\n",
            "  inflating: fruit/mixed_fruit1.tiff  \n",
            "  inflating: fruit/.DS_Store         \n",
            "  inflating: __MACOSX/fruit/._.DS_Store  \n",
            "  inflating: fruit/mixed_fruit3.tiff  \n",
            "  inflating: fruit/mixed_fruit2.tiff  \n"
          ]
        }
      ]
    },
    {
      "cell_type": "code",
      "source": [],
      "metadata": {
        "id": "y2mPs2E-iVy0"
      },
      "execution_count": null,
      "outputs": []
    }
  ]
}