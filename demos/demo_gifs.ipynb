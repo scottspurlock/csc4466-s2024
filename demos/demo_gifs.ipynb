{
  "nbformat": 4,
  "nbformat_minor": 0,
  "metadata": {
    "colab": {
      "provenance": [],
      "authorship_tag": "ABX9TyNrF8FoK9c6AgNV5M9pKLkL",
      "include_colab_link": true
    },
    "kernelspec": {
      "name": "python3",
      "display_name": "Python 3"
    },
    "language_info": {
      "name": "python"
    }
  },
  "cells": [
    {
      "cell_type": "markdown",
      "metadata": {
        "id": "view-in-github",
        "colab_type": "text"
      },
      "source": [
        "<a href=\"https://colab.research.google.com/github/scottspurlock/csc4466-s2024/blob/main/demos/demo_gifs.ipynb\" target=\"_parent\"><img src=\"https://colab.research.google.com/assets/colab-badge.svg\" alt=\"Open In Colab\"/></a>"
      ]
    },
    {
      "cell_type": "markdown",
      "source": [
        "# CSC 4466 Demo: Making a gif\n"
      ],
      "metadata": {
        "id": "4faTXwBtMh8e"
      }
    },
    {
      "cell_type": "code",
      "execution_count": 11,
      "metadata": {
        "colab": {
          "base_uri": "https://localhost:8080/",
          "height": 317
        },
        "id": "6qgOS9UpMeTt",
        "outputId": "9392a991-b1b5-43c8-d991-5a99b5bfd4a9"
      },
      "outputs": [
        {
          "output_type": "execute_result",
          "data": {
            "image/png": "[encoded data removed]",
            "text/plain": [
              "<IPython.core.display.Image object>"
            ]
          },
          "metadata": {},
          "execution_count": 11
        }
      ],
      "source": [
        "import numpy as np\n",
        "import imageio\n",
        "\n",
        "# empty list to hold the frames of the gif\n",
        "images = []\n",
        "\n",
        "# image to serve as the basis for each frame\n",
        "f = np.zeros((300, 300, 3), dtype=np.uint8)\n",
        "\n",
        "# number of frames in the gif\n",
        "n = 30\n",
        "\n",
        "# go through each frame and add it to the list\n",
        "for i in range(n):\n",
        "    # As an example, my animation will draw a dashed yellow line\n",
        "    f[i*10:i*10+5, 100:110] = [200, 200, 0]\n",
        "\n",
        "    # append a copy of f so it doesn't get changed later\n",
        "    images.append(f.copy())\n",
        "\n",
        "# This creates and saves the gif in the current folder\n",
        "imageio.mimsave('my_gif.gif', images, loop=0)\n",
        "\n",
        "# Display the gif\n",
        "from IPython.display import Image\n",
        "Image(open('my_gif.gif','rb').read())\n"
      ]
    }
  ]
}