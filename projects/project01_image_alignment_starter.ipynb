{
  "nbformat": 4,
  "nbformat_minor": 0,
  "metadata": {
    "colab": {
      "provenance": [],
      "authorship_tag": "ABX9TyMCksLJ8UDGM/oMr4XZSJEL",
      "include_colab_link": true
    },
    "kernelspec": {
      "name": "python3",
      "display_name": "Python 3"
    },
    "language_info": {
      "name": "python"
    }
  },
  "cells": [
    {
      "cell_type": "markdown",
      "metadata": {
        "id": "view-in-github",
        "colab_type": "text"
      },
      "source": [
        "<a href=\"https://colab.research.google.com/github/scottspurlock/csc4466-s2024/blob/main/projects/project01_image_alignment_starter.ipynb\" target=\"_parent\"><img src=\"https://colab.research.google.com/assets/colab-badge.svg\" alt=\"Open In Colab\"/></a>"
      ]
    },
    {
      "cell_type": "markdown",
      "source": [
        "# CSC 4466 Computer Vision\n",
        "## Project 1 - Russian Images\n",
        "### *** Your Name Here ***\n",
        "The goal of this assignment is to take the digitized Prokudin-Gorskii glass plate images and, using image processing techniques, automatically produce a color image with as few visual artifacts as possible. In order to do this, you will need to extract the three color channel images, place them on top of each other, and align them so that they form a single RGB color image. We will assume that a simple x,y translation model is sufficient for proper alignment and will ignore other potential changes such as rotation.\n",
        "\n",
        "## Discussion\n",
        "Fill in this part last. Include a couple paragraphs discussing\n",
        "- your results\n",
        "- how well things worked. Make sure to mention test2.jpg and the big tiff images.\n",
        "- how you selected any parameters to make things work better\n",
        "- run time and what factors affect it\n",
        "- how you can judge success of your results\n",
        "- limitations and what you would do next with more time\n",
        "- evaluation with respect to the assignment requirements. Does your work\n",
        "  - completely meet the requirements\n",
        "  - nearly meet the requirements\n",
        "  - somewhat meet the requirements\n"
      ],
      "metadata": {
        "id": "rRCxfSILWiOo"
      }
    },
    {
      "cell_type": "code",
      "execution_count": null,
      "metadata": {
        "id": "oM6UJt0UWhFu"
      },
      "outputs": [],
      "source": [
        "import numpy as np\n",
        "import matplotlib.pyplot as plt\n",
        "import cv2\n"
      ]
    },
    {
      "cell_type": "code",
      "source": [
        "def translate(img, x, y):\n",
        "    ''' Translate the given image (or color channel) by the given offset in the\n",
        "        given x and y directions.\n",
        "\n",
        "        Returns the translated image (or color channel).\n",
        "    '''\n",
        "    # TODO\n"
      ],
      "metadata": {
        "id": "0GuU7Msek71u"
      },
      "execution_count": null,
      "outputs": []
    },
    {
      "cell_type": "code",
      "source": [
        "# Test translate function\n",
        "# ------------------------\n",
        "\n",
        "# Make a 3x3 array of ones\n",
        "# 1 1 1\n",
        "# 1 1 1\n",
        "# 1 1 1\n",
        "A = np.ones((3, 3), np.uint8)\n",
        "\n",
        "# This should print\n",
        "# 0 0 0\n",
        "# 0 1 1\n",
        "# 0 1 1\n",
        "print()\n",
        "print('Testing translate down and right...')\n",
        "print(translate(A, 1, 1))\n",
        "\n",
        "# This should print\n",
        "# 1 1 0\n",
        "# 1 1 0\n",
        "# 0 0 0\n",
        "print()\n",
        "print('Testing translate up and left...')\n",
        "print(translate(A, -1, -1))"
      ],
      "metadata": {
        "id": "pGwr6NVilcYf"
      },
      "execution_count": null,
      "outputs": []
    },
    {
      "cell_type": "code",
      "source": [
        "def compute_ssd(I1, I2):\n",
        "    ''' Compute the sum-of-squared differences between two color channels.\n",
        "\n",
        "    Find the difference between the channels (subtract), square the difference,\n",
        "    and then sum up the squared differences over all the pixels. This should\n",
        "    require no explicit loops. Potentially helpful method: np.sum().\n",
        "\n",
        "    Think carefully about math and data types to avoid overflow (wrapping\n",
        "    around). Since this method is returning a single number (not an image), it's\n",
        "    ok that the result be a float rather than an unsigned 8-bit integer.\n",
        "    '''\n",
        "    ssd = 0\n",
        "    # TODO: return the sum-of-squared-differences (one number)\n",
        "\n",
        "\n",
        "    return ssd\n",
        ""
      ],
      "metadata": {
        "id": "EBI2zObJXR8h"
      },
      "execution_count": null,
      "outputs": []
    },
    {
      "cell_type": "code",
      "source": [
        "# Test compute_ssd function\n",
        "# ------------------------\n",
        "\n",
        "# Make a 3x3 array of zeros\n",
        "# 0 0 0\n",
        "# 0 0 0\n",
        "# 0 0 0\n",
        "A = np.zeros((3, 3), np.uint8)\n",
        "\n",
        "# Make a 3x3 array of 255's\n",
        "# 255 255 255\n",
        "# 255 255 255\n",
        "# 255 255 255\n",
        "B = 255 + np.zeros((3, 3), np.uint8)\n",
        "\n",
        "# This should print 585255.0\n",
        "print()\n",
        "print('Testing ssd ...')\n",
        "print(compute_ssd(A, B))\n",
        "\n",
        "# This should also print 585255.0\n",
        "print()\n",
        "print('Testing ssd ...')\n",
        "print(compute_ssd(B, A))\n"
      ],
      "metadata": {
        "id": "7UO69Ojin0cV"
      },
      "execution_count": null,
      "outputs": []
    },
    {
      "cell_type": "code",
      "source": [
        "def align_channels(I1, I2):\n",
        "    ''' Compute the best offset to align the second channel with the first.\n",
        "\n",
        "     I1 and I2 should be 2D numpy arrays with the same number of rows and cols.\n",
        "\n",
        "     Loop over a range of offset values in the x and y directions. (Use nested\n",
        "     for loops.) For each possible (x, y) offset, translate the second channel\n",
        "     and then check to see how well it lines up with the first channel by\n",
        "     calling the compute_ssd function. (Lower SSD is better.)\n",
        "\n",
        "     Return the x,y translation that best aligns second channel.\n",
        "    '''\n",
        "    bestX = 0\n",
        "    bestY = 0\n",
        "\n",
        "    # TODO\n",
        "\n",
        "\n",
        "    return bestX, bestY"
      ],
      "metadata": {
        "id": "yEEUTTMMosOh"
      },
      "execution_count": null,
      "outputs": []
    },
    {
      "cell_type": "code",
      "source": [
        "# Test align_channels function\n",
        "# ------------------------\n",
        "\n",
        "# Make a 3x3 array of zeros with a 1 in the middle\n",
        "# 0 0 0\n",
        "# 0 1 0\n",
        "# 0 0 0\n",
        "A = np.zeros((3, 3), np.uint8)\n",
        "A[1, 1] = 1\n",
        "\n",
        "# Make a 3x3 array of zeros with a 1 at the top left\n",
        "# 0 0 1\n",
        "# 0 0 0\n",
        "# 0 0 0\n",
        "B = np.zeros((3, 3), np.uint8)\n",
        "B[0, 2] = 1\n",
        "\n",
        "# This should print (-1, 1)\n",
        "print()\n",
        "print('Testing aligning B with A...')\n",
        "print(align_channels(A, B))\n",
        "\n",
        "# This should print (1, -1)\n",
        "print()\n",
        "print('Testing aligning A with B...')\n",
        "print(align_channels(B, A))"
      ],
      "metadata": {
        "id": "VVZwolSEpqUe"
      },
      "execution_count": null,
      "outputs": []
    },
    {
      "cell_type": "code",
      "source": [
        "def process_image(img):\n",
        "    '''\n",
        "    Process a \"Russian Image\" to separate out the color channels and align them.\n",
        "\n",
        "    The input image should be 2D. Assume that the top third\n",
        "    of the input can be used as the blue channel of a color image, the middle\n",
        "    third as the green channel, and the bottom third as the red channel.\n",
        "\n",
        "    For example, if the input is:\n",
        "    0   0   0\n",
        "    0   255 0\n",
        "    255 0   0\n",
        "    0   0   0\n",
        "    0   0   0\n",
        "    0   0   255\n",
        "\n",
        "    Then the blue channel is the top third:\n",
        "    0   0   0\n",
        "    0   255 0\n",
        "\n",
        "    and the green channel is the middle third:\n",
        "    255 0   0\n",
        "    0   0   0\n",
        "\n",
        "    and the red channel is the bottom third:\n",
        "    0   0   0\n",
        "    0   0   255\n",
        "\n",
        "    The function should call the align_channels function to determine the best\n",
        "    alignment of the green channel with the blue channel, then the red channel\n",
        "    with the blue channel.\n",
        "\n",
        "    Then the green and red channels can each be translated based on the best\n",
        "    alignments, and finally the 3 channels can be merged into a color photo.\n",
        "\n",
        "    Returns the aligned color image.\n",
        "    '''\n",
        "\n",
        "    # TODO\n"
      ],
      "metadata": {
        "id": "6AJD1yGYBpJS"
      },
      "execution_count": null,
      "outputs": []
    },
    {
      "cell_type": "code",
      "source": [
        "# Test process_image function\n",
        "# ------------------------\n",
        "\n",
        "# Make a 6x3 array of zeros with 255's\n",
        "# 0   0   0\n",
        "# 0   255 0\n",
        "# 255 0   0\n",
        "# 0   0   0\n",
        "# 0   0   0\n",
        "# 0   0   255\n",
        "A = np.zeros((6, 3), np.uint8)\n",
        "A[1, 1] = 255\n",
        "A[2, 0] = 255\n",
        "A[5, 2] = 255\n",
        "\n",
        "# This should display a 2 x 3 image with one white pixel at (1, 1)\n",
        "print('Testing processing image...')\n",
        "\n",
        "plt.imshow(A, cmap='gray', vmin=0, vmax=255)\n",
        "plt.title('Original')\n",
        "plt.show()\n",
        "print()\n",
        "\n",
        "merged = process_image(A)\n",
        "rgb = cv2.cvtColor(merged, cv2.COLOR_BGR2RGB)\n",
        "plt.imshow(rgb)\n",
        "plt.title('Merged')\n",
        "plt.show()"
      ],
      "metadata": {
        "id": "VoKMJv_hEuQ8"
      },
      "execution_count": null,
      "outputs": []
    },
    {
      "cell_type": "code",
      "source": [
        "def read_and_align(filename):\n",
        "    '''\n",
        "    Given a filename as a string, e.g., 'test.jpg', this function will\n",
        "    - read in the image\n",
        "    - convert it to grayscale (make it 2D)\n",
        "    - display the grayscale image\n",
        "    - call process_image to split and merge the channels\n",
        "    - display the aligned final image\n",
        "    '''\n",
        "\n",
        "    # TODO\n",
        ""
      ],
      "metadata": {
        "id": "p-g37kpXJTv0"
      },
      "execution_count": null,
      "outputs": []
    },
    {
      "cell_type": "code",
      "source": [
        "# Test read_and_align function with test.jpg\n",
        "# --------------------------------------------\n",
        "# Should display a single white square on a black background.\n",
        "image_name = 'test.jpg'\n",
        "read_and_align(image_name)\n"
      ],
      "metadata": {
        "id": "zSD7S2wCHUl5"
      },
      "execution_count": null,
      "outputs": []
    },
    {
      "cell_type": "code",
      "source": [
        "# Test read_and_align function with test2.jpg\n",
        "# --------------------------------------------\n",
        "# Ideally would display a single blue box on a green background,\n",
        "# but probably won't work quite right.\n",
        "image_name = 'test2.jpg'\n",
        "read_and_align(image_name)\n"
      ],
      "metadata": {
        "id": "7eGN-YqAIdnc"
      },
      "execution_count": null,
      "outputs": []
    },
    {
      "cell_type": "code",
      "source": [
        "# Test code with various input images\n",
        "# --------------------------------------------\n",
        "image_filenames = ['tobolsk.jpg',\n",
        "                   'settlers.jpg',\n",
        "                   'cathedral.jpg',\n",
        "                   'monastery.jpg']\n",
        "\n",
        "for image_name in image_filenames:\n",
        "    print(f'Testing {image_name}...')\n",
        "    read_and_align(image_name)\n",
        "    print()\n"
      ],
      "metadata": {
        "id": "z6en9TP2IqPe"
      },
      "execution_count": null,
      "outputs": []
    }
  ]
}